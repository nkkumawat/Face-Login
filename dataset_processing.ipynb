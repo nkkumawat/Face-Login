{
 "cells": [
  {
   "cell_type": "code",
   "execution_count": 14,
   "metadata": {},
   "outputs": [
    {
     "name": "stdout",
     "output_type": "stream",
     "text": [
      "(196, 200, 200, 1, 1)\n",
      "(9702, 400)\n",
      "(200, 200, 1, 1)\n",
      "14\n",
      "14.0\n"
     ]
    }
   ],
   "source": [
    "import numpy as np\n",
    "import cv2\n",
    "from matplotlib import pyplot as plt\n",
    "#========================================= Training ============================================\n",
    "cells  =[]\n",
    "for i in range(1 , 50):\n",
    "    trainImg = cv2.imread('./faces/face_'+str(i)+'.jpg')\n",
    "    trainGray = cv2.cvtColor(trainImg,cv2.COLOR_BGR2GRAY)\n",
    "    cells.append([np.hsplit(row,200) for row in np.vsplit(trainGray,200)])\n",
    "\n",
    "for i in range(101 , 150):\n",
    "    trainImg = cv2.imread('./faces/face_'+str(i)+'.jpg')\n",
    "    trainGray = cv2.cvtColor(trainImg,cv2.COLOR_BGR2GRAY)\n",
    "    cells.append([np.hsplit(row,200) for row in np.vsplit(trainGray,200)])\n",
    "\n",
    "for i in range(51 , 100):\n",
    "    trainImg = cv2.imread('./faces/face_'+str(i)+'.jpg')\n",
    "    trainGray = cv2.cvtColor(trainImg,cv2.COLOR_BGR2GRAY)\n",
    "    cells.append([np.hsplit(row,200) for row in np.vsplit(trainGray,200)])\n",
    "\n",
    "for i in range(151 , 200):\n",
    "    trainImg = cv2.imread('./faces/face_'+str(i)+'.jpg')\n",
    "    trainGray = cv2.cvtColor(trainImg,cv2.COLOR_BGR2GRAY)\n",
    "    cells.append([np.hsplit(row,200) for row in np.vsplit(trainGray,200)])\n",
    "\n",
    "\n",
    "x = np.array(cells)\n",
    "print(x.shape)\n",
    "\n",
    "\n",
    "\n",
    "trainData = x[:,1:100].reshape(-1,400).astype(np.float32) \n",
    "print(trainData.shape)\n",
    "\n",
    "# # Create labels for train and test data\n",
    "k = np.arange(2)\n",
    "trainLabels = np.repeat(k,4851)[:,np.newaxis]\n",
    "\n",
    "# print(trainLabels)\n",
    "# Initiate kNN, train the data, then test it with test data for k=1\n",
    "knn = cv2.ml.KNearest_create()\n",
    "knn.train(trainData, cv2.ml.ROW_SAMPLE, trainLabels)\n",
    "# # =================================Testing=======================================================\n",
    "\n",
    "testImage = cv2.imread('./faces/face_'+str(125)+'.jpg')\n",
    "testGray = cv2.cvtColor(testImage,cv2.COLOR_BGR2GRAY)\n",
    "testCells = [np.hsplit(row,200) for row in np.vsplit(testGray,200)]\n",
    "x = np.array(testCells)\n",
    "\n",
    "print(x.shape)\n",
    "# testData = x[:,101:200].reshape(-1,400).astype(np.float32) # Size = (2500,400)\n",
    "testData = x[:,:].reshape(-1,400).astype(np.float32)\n",
    "testLabels  = [1]\n",
    "\n",
    "# print(testData)\n",
    "ret, result, neighbours, dist = knn.findNearest(testData, k=5)\n",
    "\n",
    "\n",
    "matches = result == testLabels\n",
    "correct = np.count_nonzero(matches)\n",
    "print(correct)\n",
    "\n",
    "accuracy = correct*100.0/result.size\n",
    "print (accuracy)"
   ]
  },
  {
   "cell_type": "code",
   "execution_count": null,
   "metadata": {},
   "outputs": [],
   "source": []
  },
  {
   "cell_type": "code",
   "execution_count": null,
   "metadata": {
    "collapsed": true
   },
   "outputs": [],
   "source": []
  }
 ],
 "metadata": {
  "kernelspec": {
   "display_name": "Python 3",
   "language": "python",
   "name": "python3"
  },
  "language_info": {
   "codemirror_mode": {
    "name": "ipython",
    "version": 3
   },
   "file_extension": ".py",
   "mimetype": "text/x-python",
   "name": "python",
   "nbconvert_exporter": "python",
   "pygments_lexer": "ipython3",
   "version": "3.6.3"
  }
 },
 "nbformat": 4,
 "nbformat_minor": 2
}
