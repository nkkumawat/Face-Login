{
 "cells": [
  {
   "cell_type": "code",
   "execution_count": 1,
   "metadata": {},
   "outputs": [],
   "source": [
    "import numpy as np\n",
    "import cv2\n",
    "from random import randint\n",
    "size = 4\n",
    "webcam = cv2.VideoCapture(0) \n",
    "path = \"/home/sonu/.local/lib/python3.6/site-packages/cv2/data\"\n",
    "\n",
    "classifier = cv2.CascadeClassifier(path + '/haarcascade_frontalface_default.xml')\n",
    "i = 101;\n",
    "while True:\n",
    "    (rval, im) = webcam.read()\n",
    "    im=cv2.flip(im,1,0) \n",
    "    mini = cv2.resize(im, ((int) (im.shape[1] / size),(int)( im.shape[0] / size)))\n",
    "\n",
    "    faces = classifier.detectMultiScale(mini)\n",
    "\n",
    "    for f in faces:\n",
    "        (x, y, w, h) = [v * size for v in f] \n",
    "        cv2.rectangle(im, (x, y), (x + w, y + h),(0,255,0),thickness=4)\n",
    "        sub_face = im[y:y+h, x:x+w]\n",
    "        sub_face = cv2.resize(sub_face, (200, 200)) \n",
    "        FaceFileName = \"./faces/face_\" + str(i) + \".jpg\"\n",
    "        i+=1\n",
    "        cv2.imwrite(FaceFileName, sub_face)\n",
    "    cv2.imshow('BCU Research by Waheed Rafiq (c)',   im)\n",
    "    key = cv2.waitKey(10)\n",
    "    if key == 27: #The Esc key\n",
    "        break\n"
   ]
  },
  {
   "cell_type": "code",
   "execution_count": null,
   "metadata": {
    "collapsed": true
   },
   "outputs": [],
   "source": [
    "\n"
   ]
  },
  {
   "cell_type": "code",
   "execution_count": null,
   "metadata": {
    "collapsed": true
   },
   "outputs": [],
   "source": []
  },
  {
   "cell_type": "code",
   "execution_count": null,
   "metadata": {
    "collapsed": true
   },
   "outputs": [],
   "source": []
  }
 ],
 "metadata": {
  "kernelspec": {
   "display_name": "Python 3",
   "language": "python",
   "name": "python3"
  },
  "language_info": {
   "codemirror_mode": {
    "name": "ipython",
    "version": 3
   },
   "file_extension": ".py",
   "mimetype": "text/x-python",
   "name": "python",
   "nbconvert_exporter": "python",
   "pygments_lexer": "ipython3",
   "version": "3.6.3"
  }
 },
 "nbformat": 4,
 "nbformat_minor": 2
}
